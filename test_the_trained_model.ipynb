{
 "cells": [
  {
   "cell_type": "code",
   "execution_count": 1,
   "id": "VmjztJUYJ9_m",
   "metadata": {
    "colab": {
     "base_uri": "https://localhost:8080/"
    },
    "id": "VmjztJUYJ9_m",
    "outputId": "9d3cc9ca-6a67-48e1-da09-1c2216809a1c"
   },
   "outputs": [],
   "source": [
    "# from google.colab import drive\n",
    "# drive.mount('/content/drive')"
   ]
  },
  {
   "cell_type": "code",
   "execution_count": 2,
   "id": "mhEGc10tRT_P",
   "metadata": {
    "id": "mhEGc10tRT_P"
   },
   "outputs": [],
   "source": [
    "# !unrar x \"/content/drive/MyDrive/Colab Notebooks/arabic_ocr/data.rar\" \"/content/drive/MyDrive/Colab Notebooks/arabic_ocr/\""
   ]
  },
  {
   "cell_type": "markdown",
   "id": "1382391c",
   "metadata": {},
   "source": [
    "### import the needed libraries"
   ]
  },
  {
   "cell_type": "code",
   "execution_count": 1,
   "id": "4e83eab6",
   "metadata": {
    "id": "4e83eab6"
   },
   "outputs": [],
   "source": [
    "#important library imports\n",
    "import numpy as np\n",
    "import cv2\n",
    "import os\n",
    "from tensorflow.keras.layers.experimental.preprocessing import StringLookup\n",
    "from tensorflow import keras\n",
    "from tqdm import tqdm\n",
    "import matplotlib.pyplot as plt\n",
    "import tensorflow as tf\n",
    "import numpy as np\n",
    "import os\n",
    "import cv2 as cv"
   ]
  },
  {
   "cell_type": "markdown",
   "id": "10ba473c",
   "metadata": {},
   "source": [
    "### get each file name and sort their names "
   ]
  },
  {
   "cell_type": "code",
   "execution_count": 2,
   "id": "fa5c2987",
   "metadata": {
    "colab": {
     "base_uri": "https://localhost:8080/"
    },
    "id": "fa5c2987",
    "outputId": "edd56081-038a-4d3a-b66c-b23ca9f972aa"
   },
   "outputs": [
    {
     "name": "stdout",
     "output_type": "stream",
     "text": [
      "19628\n",
      "19628\n"
     ]
    }
   ],
   "source": [
    "# get each file name and sort theis names \n",
    "filenames_img=sorted(os.listdir('./data/images'))\n",
    "filenames_labels=sorted(os.listdir('./data/labels'))\n",
    "filenames_imgs_split=[filename.replace('.jpg', '') for filename in filenames_img]\n",
    "filenames_labels_split=[filename.replace('.txt', '') for filename in filenames_labels]\n",
    "print(len(filenames_imgs_split))\n",
    "print(len(filenames_labels_split))"
   ]
  },
  {
   "cell_type": "markdown",
   "id": "e316b7a1",
   "metadata": {},
   "source": [
    "### split data into training and testing"
   ]
  },
  {
   "cell_type": "code",
   "execution_count": 3,
   "id": "565f0c53",
   "metadata": {
    "colab": {
     "base_uri": "https://localhost:8080/"
    },
    "id": "565f0c53",
    "outputId": "1e959c0d-3072-4f3b-a9b0-1a02a6ab12bd"
   },
   "outputs": [
    {
     "name": "stdout",
     "output_type": "stream",
     "text": [
      "Total training samples: 18646\n",
      "Total test samples: 982\n"
     ]
    }
   ],
   "source": [
    "#train test validate splitting\n",
    "split_idx = int(0.95 * len(filenames_imgs_split))\n",
    "train_samples = filenames_img[:split_idx]\n",
    "train_samples_split = filenames_imgs_split[:split_idx]\n",
    "test_samples = filenames_img[split_idx:]\n",
    "test_samples_split = filenames_imgs_split[split_idx:]\n",
    "\n",
    "\n",
    "print(f\"Total training samples: {len(train_samples)}\")\n",
    "print(f\"Total test samples: {len(test_samples)}\")"
   ]
  },
  {
   "cell_type": "markdown",
   "id": "ef274ba5",
   "metadata": {},
   "source": [
    "### get each image path and each text(label) content"
   ]
  },
  {
   "cell_type": "code",
   "execution_count": 4,
   "id": "cbc2d213",
   "metadata": {
    "colab": {
     "base_uri": "https://localhost:8080/"
    },
    "id": "cbc2d213",
    "outputId": "1d6cd56b-ce9b-4162-e121-050de73e4352"
   },
   "outputs": [],
   "source": [
    "base_path='./data/'\n",
    "base_image_path = os.path.join(base_path, \"images/\")\n",
    "base_labels_path = os.path.join(base_path, \"labels/\")\n",
    "def get_image_paths_and_labels(filenames_img, filenames_imgsplit):\n",
    "    paths = []\n",
    "    labels = []\n",
    "    for i in tqdm(range(len(filenames_imgsplit))):\n",
    "        img_path = os.path.join(\n",
    "            base_image_path,  filenames_img[i]\n",
    "        )\n",
    "        if os.path.getsize(img_path):\n",
    "            paths.append(img_path)\n",
    "            label_path = os.path.join(\n",
    "            base_labels_path,  filenames_imgsplit[i]+'.txt'\n",
    "        )\n",
    "        label_file = open(label_path, \"r\",  encoding=\"utf8\")\n",
    "        labels.append(label_file.read())\n",
    "\n",
    "    return paths, labels"
   ]
  },
  {
   "cell_type": "code",
   "execution_count": 5,
   "id": "c2068a38",
   "metadata": {},
   "outputs": [
    {
     "name": "stderr",
     "output_type": "stream",
     "text": [
      "100%|██████████████████████████████████████████████████████████████████████████████| 982/982 [00:00<00:00, 4089.75it/s]\n"
     ]
    }
   ],
   "source": [
    "test_images_paths, test_labels = get_image_paths_and_labels(test_samples, test_samples_split)"
   ]
  },
  {
   "cell_type": "code",
   "execution_count": null,
   "id": "KhieFiD9ulxP",
   "metadata": {
    "id": "KhieFiD9ulxP"
   },
   "outputs": [],
   "source": []
  },
  {
   "cell_type": "markdown",
   "id": "cdab3dad",
   "metadata": {},
   "source": [
    "### create Function that load and build the lookup mapper"
   ]
  },
  {
   "cell_type": "code",
   "execution_count": 6,
   "id": "a79ca287",
   "metadata": {},
   "outputs": [],
   "source": [
    "def load_StringLookup():\n",
    "    '''\n",
    "        this function load the characters from vocabulary txt file \n",
    "        then build the lookup mapper again \n",
    "        and return the mapper\n",
    "    '''\n",
    "\n",
    "    # Load the vocabulary from the saved file\n",
    "    with open('vocabulary.txt', 'r', encoding='utf-8') as vocab_file:\n",
    "        vocabulary = vocab_file.read().split('\\n')\n",
    "\n",
    "    # Create a new StringLookup layer with the loaded vocabulary and configuration\n",
    "    char_to_num = tf.keras.layers.StringLookup(\n",
    "        vocabulary=vocabulary,\n",
    "        mask_token=None,  # You may need to adjust this depending on your configuration\n",
    "    )\n",
    "    \n",
    "    # Mapping integers back to original characters.\n",
    "    num_to_char = StringLookup(\n",
    "        vocabulary= vocabulary, mask_token=None, invert=True\n",
    "    )\n",
    "    return char_to_num, num_to_char"
   ]
  },
  {
   "cell_type": "code",
   "execution_count": 7,
   "id": "0dbadbe4",
   "metadata": {},
   "outputs": [],
   "source": [
    "char_to_num, num_to_char = load_StringLookup()"
   ]
  },
  {
   "cell_type": "markdown",
   "id": "4fb3a854",
   "metadata": {},
   "source": [
    "### Create the image processing Functions that load the image from image paths then return numpy array of all images"
   ]
  },
  {
   "cell_type": "code",
   "execution_count": 8,
   "id": "15fd1ac7",
   "metadata": {
    "id": "15fd1ac7"
   },
   "outputs": [],
   "source": [
    "def preprocess_image(image_paths, width, hight):\n",
    "    images = []\n",
    "    for path in tqdm(image_paths):\n",
    "        # Load and preprocess your images here (e.g., resizing and normalizing)\n",
    "        image = cv2.imread(path)  # Load the image using OpenCV\n",
    "        image = cv2.resize(image, (width, hight))\n",
    "        image = cv2.cvtColor(image, cv2.COLOR_BGR2GRAY)\n",
    "        _, image = cv2.threshold(image, 250, 255, cv2.THRESH_BINARY)\n",
    "\n",
    "        image = image // 255.0  # Normalize pixel values to [0, 1]\n",
    "\n",
    "        images.append(image)\n",
    "    # Next we need to reshape our data for the convolutional network\n",
    "    images=np.array(images)\n",
    "    images = images.reshape(images.shape[0], hight, width,1)\n",
    "    return images\n"
   ]
  },
  {
   "cell_type": "markdown",
   "id": "7031f55b",
   "metadata": {},
   "source": [
    "### create function the vectorize the label text"
   ]
  },
  {
   "cell_type": "code",
   "execution_count": 9,
   "id": "f4e1c8cd",
   "metadata": {},
   "outputs": [],
   "source": [
    "padding_token = 99\n",
    "max_len = 68\n",
    "def vectorize_label(labels):\n",
    "    vectorized_labels=[]\n",
    "    for label in tqdm(labels):\n",
    "        label = char_to_num(tf.strings.unicode_split(label, input_encoding=\"UTF-8\"))\n",
    "        length = tf.shape(label)[0]\n",
    "        pad_amount = max_len - length\n",
    "        label = tf.pad(label, paddings=[[0, pad_amount]], constant_values=padding_token)\n",
    "        vectorized_labels.append(label)\n",
    "    return np.array( vectorized_labels)"
   ]
  },
  {
   "cell_type": "code",
   "execution_count": 10,
   "id": "003a734a",
   "metadata": {},
   "outputs": [
    {
     "name": "stderr",
     "output_type": "stream",
     "text": [
      "100%|███████████████████████████████████████████████████████████████████████████████| 982/982 [00:03<00:00, 299.58it/s]\n"
     ]
    }
   ],
   "source": [
    "test_vectorized_labels = vectorize_label(test_labels)"
   ]
  },
  {
   "cell_type": "code",
   "execution_count": 11,
   "id": "-z5Gxqjkya4t",
   "metadata": {
    "colab": {
     "base_uri": "https://localhost:8080/"
    },
    "id": "-z5Gxqjkya4t",
    "outputId": "2e96e0c4-c7d5-444b-b4ea-2bcfbc54bd41"
   },
   "outputs": [
    {
     "name": "stderr",
     "output_type": "stream",
     "text": [
      "100%|██████████████████████████████████████████████████████████████████████████████| 982/982 [00:00<00:00, 1282.51it/s]\n"
     ]
    }
   ],
   "source": [
    "test_images = preprocess_image(test_images_paths, 300, 20)"
   ]
  },
  {
   "cell_type": "code",
   "execution_count": 12,
   "id": "762b4a52",
   "metadata": {
    "colab": {
     "base_uri": "https://localhost:8080/",
     "height": 151
    },
    "id": "762b4a52",
    "outputId": "ab4738b5-81e5-4fa5-83b4-dca78cab5f64",
    "scrolled": false
   },
   "outputs": [
    {
     "name": "stdout",
     "output_type": "stream",
     "text": [
      "1159 شارع شيلود متفرع من كيربريجي في ١١٣٩ بينارث\n"
     ]
    },
    {
     "data": {
      "text/plain": [
       "<matplotlib.image.AxesImage at 0x1a39fcc9eb0>"
      ]
     },
     "execution_count": 12,
     "metadata": {},
     "output_type": "execute_result"
    },
    {
     "data": {
      "image/png": "[encoded data removed]",
      "text/plain": [
       "<Figure size 720x432 with 1 Axes>"
      ]
     },
     "metadata": {
      "needs_background": "light"
     },
     "output_type": "display_data"
    }
   ],
   "source": [
    "i=20\n",
    "print(test_labels[i])\n",
    "plt.figure(figsize=(10,6))\n",
    "image = test_images[i]\n",
    "plt.imshow(image)"
   ]
  },
  {
   "cell_type": "markdown",
   "id": "d6833019",
   "metadata": {},
   "source": [
    "### create a CTC Loss Function which is our loss function"
   ]
  },
  {
   "cell_type": "code",
   "execution_count": 13,
   "id": "0246c83c",
   "metadata": {
    "id": "0246c83c"
   },
   "outputs": [],
   "source": [
    "class CTCLayer(keras.layers.Layer):\n",
    "    def __init__(self, name=None):\n",
    "        super().__init__(name=name)\n",
    "        self.loss_fn = keras.backend.ctc_batch_cost\n",
    "\n",
    "    def call(self, y_true, y_pred):\n",
    "        batch_len = tf.cast(tf.shape(y_true)[0], dtype=\"int64\")\n",
    "        input_length = tf.cast(tf.shape(y_pred)[1], dtype=\"int64\")\n",
    "        label_length = tf.cast(tf.shape(y_true)[1], dtype=\"int64\")\n",
    "\n",
    "        input_length = input_length * tf.ones(shape=(batch_len, 1), dtype=\"int64\")\n",
    "        label_length = label_length * tf.ones(shape=(batch_len, 1), dtype=\"int64\")\n",
    "        loss = self.loss_fn(y_true, y_pred, input_length, label_length)\n",
    "        self.add_loss(loss)\n",
    "\n",
    "        # At test time, just return the computed predictions.\n",
    "        return y_pred"
   ]
  },
  {
   "cell_type": "markdown",
   "id": "495c7b43",
   "metadata": {},
   "source": [
    "### load the whole model and create the usable prediction model"
   ]
  },
  {
   "cell_type": "code",
   "execution_count": 14,
   "id": "a5249d9c",
   "metadata": {},
   "outputs": [],
   "source": [
    "model = keras.models.load_model('./models/my_model_final.h5', custom_objects={'CTCLayer': CTCLayer})"
   ]
  },
  {
   "cell_type": "code",
   "execution_count": 21,
   "id": "adf8e981",
   "metadata": {
    "colab": {
     "base_uri": "https://localhost:8080/"
    },
    "id": "adf8e981",
    "outputId": "bc5f6537-061b-4958-91b7-e531c12d39e9"
   },
   "outputs": [
    {
     "name": "stdout",
     "output_type": "stream",
     "text": [
      "WARNING:tensorflow:Compiled the loaded model, but the compiled metrics have yet to be built. `model.compile_metrics` will be empty until you train or evaluate the model.\n"
     ]
    }
   ],
   "source": [
    "prediction_model = keras.models.Model(\n",
    "    model.get_layer(name=\"image\").input, model.get_layer(name=\"dense3\").output\n",
    ")\n",
    "prediction_model.save('./models/my_prediction_model_final.h5')"
   ]
  },
  {
   "cell_type": "markdown",
   "id": "971b8cd0",
   "metadata": {},
   "source": [
    "### Create function that decode the model output and map it to final predicted text"
   ]
  },
  {
   "cell_type": "code",
   "execution_count": 17,
   "id": "nDH6DOu8HOFN",
   "metadata": {
    "id": "nDH6DOu8HOFN"
   },
   "outputs": [],
   "source": [
    "max_len=68\n",
    "def decode_batch_predictions(pred):\n",
    "    input_len = np.ones(pred.shape[0]) * pred.shape[1]\n",
    "    # Use greedy search. For complex tasks, you can use beam search.\n",
    "    results = keras.backend.ctc_decode(pred, input_length=input_len, greedy=True)[0][0][\n",
    "        :, :max_len\n",
    "    ]\n",
    "    # Iterate over the results and get back the text.\n",
    "    output_text = []\n",
    "    for res in results:\n",
    "        res = tf.gather(res, tf.where(tf.math.not_equal(res, -1)))\n",
    "        res = tf.strings.reduce_join(num_to_char(res)).numpy().decode(\"utf-8\")\n",
    "        output_text.append(res)\n",
    "    return output_text"
   ]
  },
  {
   "cell_type": "markdown",
   "id": "e32d52f1",
   "metadata": {},
   "source": [
    "### test the model"
   ]
  },
  {
   "cell_type": "code",
   "execution_count": 18,
   "id": "d41c298e",
   "metadata": {
    "id": "d41c298e",
    "outputId": "db0432f8-3a76-4fa5-f47c-91c783b0d0c4"
   },
   "outputs": [
    {
     "name": "stderr",
     "output_type": "stream",
     "text": [
      "100%|███████████████████████████████████████████████████████████████████████████████████| 1/1 [00:00<00:00, 396.44it/s]\n"
     ]
    },
    {
     "name": "stdout",
     "output_type": "stream",
     "text": [
      "1/1 [==============================] - 2s 2s/step\n",
      "actual text:  568 شارع الغوير متفرع من سوميا في ١٥١٢ أم المهابيش\n",
      "predicted text:  94 شارع الدوير متفرع من سوميا في ١٠١١ أم البيابين\n"
     ]
    }
   ],
   "source": [
    "test = preprocess_image([test_images_paths[1]], 300, 20)\n",
    "preds = prediction_model.predict(test)\n",
    "print(\"actual text: \", test_labels[1]) \n",
    "print(\"predicted text: \",decode_batch_predictions(preds)[0])"
   ]
  },
  {
   "cell_type": "code",
   "execution_count": 19,
   "id": "7e626f4d",
   "metadata": {},
   "outputs": [
    {
     "name": "stdout",
     "output_type": "stream",
     "text": [
      "31/31 [==============================] - 9s 221ms/step - loss: 41.5680\n"
     ]
    },
    {
     "data": {
      "text/plain": [
       "41.56802749633789"
      ]
     },
     "execution_count": 19,
     "metadata": {},
     "output_type": "execute_result"
    }
   ],
   "source": [
    "model.evaluate([test_images, test_vectorized_labels])"
   ]
  },
  {
   "cell_type": "markdown",
   "id": "f0074053",
   "metadata": {},
   "source": [
    "### Save a ONNX Model"
   ]
  },
  {
   "cell_type": "code",
   "execution_count": 21,
   "id": "d61a32b8",
   "metadata": {},
   "outputs": [],
   "source": [
    "import tf2onnx\n",
    "\n",
    "tf2onnx.convert.from_keras(prediction_model, output_path='./my_prediction_model_final.onnx');\n",
    "tf2onnx.convert.from_keras(prediction_model, output_path='./my_model_final.onnx');"
   ]
  },
  {
   "cell_type": "code",
   "execution_count": null,
   "id": "815ab3db",
   "metadata": {},
   "outputs": [],
   "source": []
  }
 ],
 "metadata": {
  "accelerator": "GPU",
  "colab": {
   "gpuType": "T4",
   "provenance": []
  },
  "kernelspec": {
   "display_name": "Python 3 (ipykernel)",
   "language": "python",
   "name": "python3"
  },
  "language_info": {
   "codemirror_mode": {
    "name": "ipython",
    "version": 3
   },
   "file_extension": ".py",
   "mimetype": "text/x-python",
   "name": "python",
   "nbconvert_exporter": "python",
   "pygments_lexer": "ipython3",
   "version": "3.9.12"
  }
 },
 "nbformat": 4,
 "nbformat_minor": 5
}
